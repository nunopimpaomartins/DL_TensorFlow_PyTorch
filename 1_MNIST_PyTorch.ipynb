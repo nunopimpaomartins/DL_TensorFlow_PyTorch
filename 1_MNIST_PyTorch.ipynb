{
 "cells": [
  {
   "cell_type": "code",
   "execution_count": 1,
   "id": "surgical-press",
   "metadata": {},
   "outputs": [],
   "source": [
    "import torch\n",
    "\n",
    "from torch import nn\n",
    "from torch.nn import functional as F\n",
    "\n",
    "import numpy as np\n",
    "\n",
    "import matplotlib.pyplot as plt\n",
    "\n",
    "from tqdm.notebook import tqdm\n",
    "\n",
    "import torchvision"
   ]
  },
  {
   "cell_type": "code",
   "execution_count": null,
   "id": "trying-rugby",
   "metadata": {},
   "outputs": [],
   "source": [
    "# Use your own path ;)\n",
    "mnist_train = torchvision.datasets.MNIST('/home/tibuch/Data/mnist', train=True, download=True,\n",
    "                                         transform=torchvision.transforms.Compose([\n",
    "                                            torchvision.transforms.ToTensor()\n",
    "                                         ]))"
   ]
  },
  {
   "cell_type": "code",
   "execution_count": 3,
   "id": "bored-first",
   "metadata": {},
   "outputs": [],
   "source": [
    "x_train = mnist_train.data.type(torch.float32)\n",
    "x_train /= 255.\n",
    "y_train = mnist_train.targets"
   ]
  },
  {
   "cell_type": "code",
   "execution_count": 4,
   "id": "rocky-profession",
   "metadata": {},
   "outputs": [
    {
     "name": "stdout",
     "output_type": "stream",
     "text": [
      "torch.Size([60000, 28, 28])\n",
      "torch.Size([60000])\n"
     ]
    }
   ],
   "source": [
    "print(x_train.shape)\n",
    "print(y_train.shape)"
   ]
  },
  {
   "cell_type": "code",
   "execution_count": 5,
   "id": "thermal-deficit",
   "metadata": {},
   "outputs": [
    {
     "data": {
      "image/png": "[encoded data removed]",
      "text/plain": [
       "<Figure size 720x360 with 4 Axes>"
      ]
     },
     "metadata": {
      "needs_background": "light"
     },
     "output_type": "display_data"
    }
   ],
   "source": [
    "plt.figure(figsize=(10,5))\n",
    "plt.subplot(1,2,1)\n",
    "plt.imshow(x_train[0])\n",
    "plt.colorbar()\n",
    "plt.title(y_train[0].item());\n",
    "plt.subplot(1,2,2)\n",
    "plt.imshow(x_train[1000])\n",
    "plt.colorbar()\n",
    "plt.title(y_train[1000].item());"
   ]
  },
  {
   "cell_type": "markdown",
   "id": "infectious-square",
   "metadata": {},
   "source": [
    "# Tasks\n",
    "* Train a classifier with fully-connected layers only.\n",
    "* Train a classifier with convolutions only.\n",
    "* Train a classifier with convolutions and fully-connected layers.\n",
    "* Train a denoising network. Note, you have to create some noisy observations first ;)"
   ]
  },
  {
   "cell_type": "markdown",
   "id": "waiting-priority",
   "metadata": {},
   "source": [
    "# 1. Create model"
   ]
  },
  {
   "cell_type": "code",
   "execution_count": null,
   "id": "understood-model",
   "metadata": {},
   "outputs": [],
   "source": []
  },
  {
   "cell_type": "markdown",
   "id": "earlier-diversity",
   "metadata": {},
   "source": [
    "# 2. Test if model runs"
   ]
  },
  {
   "cell_type": "code",
   "execution_count": null,
   "id": "attached-footage",
   "metadata": {},
   "outputs": [],
   "source": []
  },
  {
   "cell_type": "markdown",
   "id": "authentic-cleaner",
   "metadata": {},
   "source": [
    "# 3. Choose loss-function and optimizer"
   ]
  },
  {
   "cell_type": "code",
   "execution_count": null,
   "id": "worst-south",
   "metadata": {},
   "outputs": [],
   "source": []
  },
  {
   "cell_type": "markdown",
   "id": "expanded-aquatic",
   "metadata": {},
   "source": [
    "# 4. Write train-loop\n",
    "\n",
    "__Note:__ If you want to train on GPU just call `model.cuda()` to move the model to GPU. Don't forget to move the training data to GPU as well. You can call `x.cuda()` to move a tensor to GPU."
   ]
  },
  {
   "cell_type": "code",
   "execution_count": null,
   "id": "numeric-variable",
   "metadata": {},
   "outputs": [],
   "source": []
  },
  {
   "cell_type": "markdown",
   "id": "meaningful-multimedia",
   "metadata": {},
   "source": [
    "# 5. Evaluate"
   ]
  },
  {
   "cell_type": "code",
   "execution_count": null,
   "id": "preliminary-joseph",
   "metadata": {},
   "outputs": [],
   "source": []
  }
 ],
 "metadata": {
  "kernelspec": {
   "display_name": "Python 3",
   "language": "python",
   "name": "python3"
  },
  "language_info": {
   "codemirror_mode": {
    "name": "ipython",
    "version": 3
   },
   "file_extension": ".py",
   "mimetype": "text/x-python",
   "name": "python",
   "nbconvert_exporter": "python",
   "pygments_lexer": "ipython3",
   "version": "3.7.10"
  }
 },
 "nbformat": 4,
 "nbformat_minor": 5
}
